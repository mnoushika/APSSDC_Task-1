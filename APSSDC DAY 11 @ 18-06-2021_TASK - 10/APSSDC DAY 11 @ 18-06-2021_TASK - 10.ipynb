{
 "cells": [
  {
   "cell_type": "markdown",
   "metadata": {},
   "source": [
    "### Tasks\n",
    "#### 1. Write a program for getting the last five lines from the file."
   ]
  },
  {
   "cell_type": "code",
   "execution_count": 1,
   "metadata": {},
   "outputs": [],
   "source": [
    "f1 = open('Day11.txt','w')\n",
    "f1.write(\"First line. \\n\")\n",
    "f1.write(\"Second line. \\n\")\n",
    "f1.write(\"Third line. \\n\")\n",
    "f1.write(\"Fourth line. \\n\")\n",
    "f1.write(\"Fifth line. \\n\")\n",
    "f1.write(\"Sixth line. \\n\")\n",
    "f1.write(\"Seventh line. \\n\")\n",
    "f1.write(\"Eigth line. \\n\")\n",
    "f1.write(\"Nineth line. \\n\")\n",
    "f1.write(\"Tenth line. \\n\")\n",
    "f1.close()"
   ]
  },
  {
   "cell_type": "code",
   "execution_count": 5,
   "metadata": {},
   "outputs": [
    {
     "data": {
      "text/plain": [
       "'First line. \\nSecond line. \\nThird line. \\nFourth line. \\nFifth line. \\nSixth line. \\nSeventh line. \\nEigth line. \\nNineth line. \\nTenth line. \\n'"
      ]
     },
     "execution_count": 5,
     "metadata": {},
     "output_type": "execute_result"
    }
   ],
   "source": [
    "f1 = open(\"Day11.txt\",'r')\n",
    "f1.read()"
   ]
  },
  {
   "cell_type": "code",
   "execution_count": 2,
   "metadata": {},
   "outputs": [
    {
     "name": "stdout",
     "output_type": "stream",
     "text": [
      "Sixth line. \n",
      "\n",
      "Seventh line. \n",
      "\n",
      "Eigth line. \n",
      "\n",
      "Nineth line. \n",
      "\n",
      "Tenth line. \n",
      "\n"
     ]
    }
   ],
   "source": [
    "f1 = open('Day11.txt','r')\n",
    "for i in (f1.readlines()[-5:]):\n",
    "    print(i)"
   ]
  },
  {
   "cell_type": "code",
   "execution_count": 3,
   "metadata": {},
   "outputs": [],
   "source": [
    "f1.close()"
   ]
  },
  {
   "cell_type": "markdown",
   "metadata": {},
   "source": [
    "#### 2. Create a function for appending the data into the file."
   ]
  },
  {
   "cell_type": "code",
   "execution_count": 14,
   "metadata": {},
   "outputs": [],
   "source": [
    "def append_1(data):\n",
    "    with open('Day11.txt','a') as f1:\n",
    "        data = f1.write(\"Noushika \\n\")\n",
    "        data = f1.write(\"Mothukuri \\n\")\n",
    "append_1(\"Day11.txt\")"
   ]
  },
  {
   "cell_type": "code",
   "execution_count": 12,
   "metadata": {},
   "outputs": [
    {
     "name": "stdout",
     "output_type": "stream",
     "text": [
      "First line. \n",
      "Second line. \n",
      "Third line. \n",
      "Fourth line. \n",
      "Fifth line. \n",
      "Sixth line. \n",
      "Seventh line. \n",
      "Eigth line. \n",
      "Nineth line. \n",
      "Tenth line. \n",
      "Noushika \n",
      "Mothukuri\n"
     ]
    }
   ],
   "source": [
    "f1 = open(\"Day11.txt\",'r')\n",
    "print(f1.read())"
   ]
  },
  {
   "cell_type": "markdown",
   "metadata": {},
   "source": [
    "#### 3.Create a program for updating a word in the file."
   ]
  },
  {
   "cell_type": "code",
   "execution_count": 15,
   "metadata": {},
   "outputs": [],
   "source": [
    "f1 = open(\"Day11.txt\",\"a\")\n",
    "f1.write(\"Hii!! I am Noushika\")\n",
    "f1.close()"
   ]
  },
  {
   "cell_type": "code",
   "execution_count": 17,
   "metadata": {},
   "outputs": [
    {
     "name": "stdout",
     "output_type": "stream",
     "text": [
      "First line. \n",
      "Second line. \n",
      "Third line. \n",
      "Fourth line. \n",
      "Fifth line. \n",
      "Sixth line. \n",
      "Seventh line. \n",
      "Eigth line. \n",
      "Nineth line. \n",
      "Tenth line. \n",
      "Mothukuri \n",
      "Mothukuri \n",
      "Hii!! I am Mothukuri\n"
     ]
    }
   ],
   "source": [
    "import re\n",
    "with open( 'Day11.txt',\"r+\") as f1:\n",
    "          text = f1.read( )\n",
    "          text = re.sub( \"Noushika\", \"Mothukuri\", text)\n",
    "          f1.seek(0)\n",
    "          f1.write(text)\n",
    "          f1.truncate( )\n",
    "f1 = open(\"Day11.txt\")\n",
    "print (f1.read())    "
   ]
  },
  {
   "cell_type": "code",
   "execution_count": 18,
   "metadata": {},
   "outputs": [],
   "source": [
    "f1.close()"
   ]
  }
 ],
 "metadata": {
  "kernelspec": {
   "display_name": "Python 3",
   "language": "python",
   "name": "python3"
  },
  "language_info": {
   "codemirror_mode": {
    "name": "ipython",
    "version": 3
   },
   "file_extension": ".py",
   "mimetype": "text/x-python",
   "name": "python",
   "nbconvert_exporter": "python",
   "pygments_lexer": "ipython3",
   "version": "3.7.3"
  }
 },
 "nbformat": 4,
 "nbformat_minor": 2
}
