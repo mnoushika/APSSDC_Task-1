{
 "cells": [
  {
   "cell_type": "markdown",
   "metadata": {},
   "source": [
    "### Task - 6\n",
    "#### 1. Write a pattern to display 4 digit numbers from list."
   ]
  },
  {
   "cell_type": "code",
   "execution_count": 7,
   "metadata": {},
   "outputs": [
    {
     "name": "stdout",
     "output_type": "stream",
     "text": [
      "Four digit numbers in the list are: \n",
      "4545\n",
      "8989\n",
      "1234\n"
     ]
    }
   ],
   "source": [
    "import re\n",
    "list1 = {\"388\",\"78934903\",\"345678\",\"1234\",\"675\",\"87878\",\"4545\",\"8989\"}\n",
    "print(\"Four digit numbers in the list are: \")\n",
    "for i in list1:\n",
    "    if re.findall('^[0-9]{4}$',i):\n",
    "         print(i)"
   ]
  },
  {
   "cell_type": "markdown",
   "metadata": {},
   "source": [
    "#### 2. Validate a phone number using patterns."
   ]
  },
  {
   "cell_type": "code",
   "execution_count": 6,
   "metadata": {},
   "outputs": [
    {
     "name": "stdout",
     "output_type": "stream",
     "text": [
      "Enter no.of elements for list: 4\n",
      "9876543210\n",
      "8765786435\n",
      "545643678\n",
      "765432789\n",
      "The List is:  ['9876543210', '8765786435', '545643678', '765432789']\n",
      "The Validate phone numbers from the list are : \n",
      "9876543210\n",
      "8765786435\n"
     ]
    }
   ],
   "source": [
    "ph_list = []\n",
    "n = int(input(\"Enter no.of elements for list: \"))\n",
    "for i in range(n):\n",
    "    a = input()\n",
    "    ph_list.append(a)\n",
    "print(\"The List is: \",ph_list)\n",
    "\n",
    "import re\n",
    "print(\"The Validate phone numbers from the list are : \")\n",
    "for i in ph_list:\n",
    "    if re.findall('[6-9]{1}[0-9]{9}$',i):\n",
    "        print(i)"
   ]
  }
 ],
 "metadata": {
  "kernelspec": {
   "display_name": "Python 3",
   "language": "python",
   "name": "python3"
  },
  "language_info": {
   "codemirror_mode": {
    "name": "ipython",
    "version": 3
   },
   "file_extension": ".py",
   "mimetype": "text/x-python",
   "name": "python",
   "nbconvert_exporter": "python",
   "pygments_lexer": "ipython3",
   "version": "3.7.3"
  }
 },
 "nbformat": 4,
 "nbformat_minor": 2
}
