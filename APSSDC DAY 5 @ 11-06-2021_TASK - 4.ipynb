{
 "cells": [
  {
   "cell_type": "markdown",
   "metadata": {},
   "source": [
    "### Task - 4\n",
    "#### 1. Take two lists and print the common members from two lists."
   ]
  },
  {
   "cell_type": "code",
   "execution_count": 2,
   "metadata": {},
   "outputs": [
    {
     "name": "stdout",
     "output_type": "stream",
     "text": [
      "Enter the number of elements of list-1: 4\n",
      "Enter the number of elements of list-2: 5\n",
      "Enter the elements in the list-1: N\n",
      "Enter the elements in the list-1: o\n",
      "Enter the elements in the list-1: u\n",
      "Enter the elements in the list-1: s\n",
      "Enter the elements in the list-2: N\n",
      "Enter the elements in the list-2: o\n",
      "Enter the elements in the list-2: w\n",
      "Enter the elements in the list-2: S\n",
      "Enter the elements in the list-2: h\n",
      "Commom elements are:  ['N', 'o']\n"
     ]
    }
   ],
   "source": [
    "a = int(input(\"Enter the number of elements of list-1: \"))\n",
    "b = int(input(\"Enter the number of elements of list-2: \"))\n",
    "l1 = []\n",
    "l2 = []\n",
    "for i in range(a):\n",
    "    c = input(\"Enter the elements in the list-1: \")\n",
    "    l1.append(c)\n",
    "for j in range(b):\n",
    "    d = input(\"Enter the elements in the list-2: \")\n",
    "    l2.append(d)\n",
    "c = []\n",
    "for k in l1:\n",
    "    for l in l2:\n",
    "        if(k==l):\n",
    "            c.append(k)\n",
    "print(\"Commom elements are: \",c)"
   ]
  }
 ],
 "metadata": {
  "kernelspec": {
   "display_name": "Python 3",
   "language": "python",
   "name": "python3"
  },
  "language_info": {
   "codemirror_mode": {
    "name": "ipython",
    "version": 3
   },
   "file_extension": ".py",
   "mimetype": "text/x-python",
   "name": "python",
   "nbconvert_exporter": "python",
   "pygments_lexer": "ipython3",
   "version": "3.7.3"
  }
 },
 "nbformat": 4,
 "nbformat_minor": 2
}
