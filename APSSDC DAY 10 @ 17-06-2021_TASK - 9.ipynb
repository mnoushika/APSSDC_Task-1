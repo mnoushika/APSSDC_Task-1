{
 "cells": [
  {
   "cell_type": "markdown",
   "metadata": {},
   "source": [
    "### Task - 9\n",
    "- Generate 3-Digit OTP from 2 different Classes (Mail class and Phone Class)\n",
    "- return 6 digit OTP from Base classes(Super classes)"
   ]
  },
  {
   "cell_type": "code",
   "execution_count": 5,
   "metadata": {},
   "outputs": [],
   "source": [
    "import random\n",
    "class Mail():\n",
    "    def __init__(self):\n",
    "        self.s1 = random.randint(100,999)\n",
    "        print(\"The First 3-digit OTP by Mail is :\", self.s1)\n",
    "class Phone():\n",
    "    def __init__(self):\n",
    "        self.s2 = random.randint(100,999)\n",
    "        print(\"The Next 3-digit OTP by Phone is :\", self.s2)\n",
    "class Base(Mail,Phone):\n",
    "    def __init__(self):\n",
    "        Mail.__init__(self)\n",
    "        Phone.__init__(self)\n",
    "        print(\"The 6-digit OTP is : \",str(self.s1)+str(self.s2))"
   ]
  },
  {
   "cell_type": "code",
   "execution_count": 6,
   "metadata": {},
   "outputs": [
    {
     "name": "stdout",
     "output_type": "stream",
     "text": [
      "The First 3-digit OTP by Mail is : 672\n",
      "The Next 3-digit OTP by Phone is : 308\n",
      "The 6-digit OTP is :  672308\n"
     ]
    }
   ],
   "source": [
    "obj = Base()"
   ]
  },
  {
   "cell_type": "code",
   "execution_count": 7,
   "metadata": {},
   "outputs": [
    {
     "name": "stdout",
     "output_type": "stream",
     "text": [
      "The First 3-digit OTP by Mail is : 490\n",
      "The Next 3-digit OTP by Phone is : 842\n",
      "The 6-digit OTP is :  490842\n"
     ]
    }
   ],
   "source": [
    "obj = Base()"
   ]
  }
 ],
 "metadata": {
  "kernelspec": {
   "display_name": "Python 3",
   "language": "python",
   "name": "python3"
  },
  "language_info": {
   "codemirror_mode": {
    "name": "ipython",
    "version": 3
   },
   "file_extension": ".py",
   "mimetype": "text/x-python",
   "name": "python",
   "nbconvert_exporter": "python",
   "pygments_lexer": "ipython3",
   "version": "3.7.3"
  }
 },
 "nbformat": 4,
 "nbformat_minor": 2
}
