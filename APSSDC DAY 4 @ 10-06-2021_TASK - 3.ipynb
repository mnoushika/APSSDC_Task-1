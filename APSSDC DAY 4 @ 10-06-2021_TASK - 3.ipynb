{
 "cells": [
  {
   "cell_type": "markdown",
   "metadata": {},
   "source": [
    "### Task-3\n",
    "\n",
    "#### 1. Take input from the user.\n",
    "- check the length of the string even or odd\n",
    "- if the string length is odd access one middle character\n",
    "- if the string length is even access two middle character"
   ]
  },
  {
   "cell_type": "code",
   "execution_count": 10,
   "metadata": {},
   "outputs": [
    {
     "name": "stdout",
     "output_type": "stream",
     "text": [
      "Enter any String: Mothukuri.Noushika\n",
      "The length of the string is:  18\n",
      "The length of the string is even and the two middle characters are:  i.\n"
     ]
    }
   ],
   "source": [
    "S = input(\"Enter any String: \")\n",
    "print(\"The length of the string is: \",len(S))\n",
    "if len(S)%2==0:\n",
    "    print(\"The length of the string is even and the two middle characters are: \",S[len(S)//2-1]+S[len(S)//2])\n",
    "else:\n",
    "    print(\"The length of the string is odd and the middle most character: \",S[len(S)//2])"
   ]
  }
 ],
 "metadata": {
  "kernelspec": {
   "display_name": "Python 3",
   "language": "python",
   "name": "python3"
  },
  "language_info": {
   "codemirror_mode": {
    "name": "ipython",
    "version": 3
   },
   "file_extension": ".py",
   "mimetype": "text/x-python",
   "name": "python",
   "nbconvert_exporter": "python",
   "pygments_lexer": "ipython3",
   "version": "3.7.3"
  }
 },
 "nbformat": 4,
 "nbformat_minor": 2
}
